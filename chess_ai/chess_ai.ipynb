{
  "nbformat": 4,
  "nbformat_minor": 0,
  "metadata": {
    "colab": {
      "provenance": [],
      "collapsed_sections": [
        "I6Uw9QLM51RA",
        "fA0CtuZAEQy8"
      ],
      "gpuType": "T4"
    },
    "kernelspec": {
      "name": "python3",
      "display_name": "Python 3"
    },
    "language_info": {
      "name": "python"
    },
    "accelerator": "GPU"
  },
  "cells": [
    {
      "cell_type": "markdown",
      "source": [
        "# Imports"
      ],
      "metadata": {
        "id": "NO3wMel6uqRW"
      }
    },
    {
      "cell_type": "code",
      "source": [
        "!pip install wandb -qU\n",
        "%pip install chess"
      ],
      "metadata": {
        "colab": {
          "base_uri": "https://localhost:8080/"
        },
        "id": "sVBdzwfqwqYe",
        "outputId": "2a974c13-3166-4af4-ea9e-0f79a1c8b0e6"
      },
      "execution_count": 1,
      "outputs": [
        {
          "output_type": "stream",
          "name": "stdout",
          "text": [
            "\u001b[2K   \u001b[90m━━━━━━━━━━━━━━━━━━━━━━━━━━━━━━━━━━━━━━━━\u001b[0m \u001b[32m6.8/6.8 MB\u001b[0m \u001b[31m35.4 MB/s\u001b[0m eta \u001b[36m0:00:00\u001b[0m\n",
            "\u001b[2K   \u001b[90m━━━━━━━━━━━━━━━━━━━━━━━━━━━━━━━━━━━━━━━━\u001b[0m \u001b[32m207.3/207.3 kB\u001b[0m \u001b[31m11.3 MB/s\u001b[0m eta \u001b[36m0:00:00\u001b[0m\n",
            "\u001b[2K   \u001b[90m━━━━━━━━━━━━━━━━━━━━━━━━━━━━━━━━━━━━━━━━\u001b[0m \u001b[32m301.8/301.8 kB\u001b[0m \u001b[31m18.3 MB/s\u001b[0m eta \u001b[36m0:00:00\u001b[0m\n",
            "\u001b[2K   \u001b[90m━━━━━━━━━━━━━━━━━━━━━━━━━━━━━━━━━━━━━━━━\u001b[0m \u001b[32m62.7/62.7 kB\u001b[0m \u001b[31m3.8 MB/s\u001b[0m eta \u001b[36m0:00:00\u001b[0m\n",
            "\u001b[?25hCollecting chess\n",
            "  Downloading chess-1.10.0-py3-none-any.whl.metadata (19 kB)\n",
            "Downloading chess-1.10.0-py3-none-any.whl (154 kB)\n",
            "\u001b[2K   \u001b[90m━━━━━━━━━━━━━━━━━━━━━━━━━━━━━━━━━━━━━━━━\u001b[0m \u001b[32m154.4/154.4 kB\u001b[0m \u001b[31m5.5 MB/s\u001b[0m eta \u001b[36m0:00:00\u001b[0m\n",
            "\u001b[?25hInstalling collected packages: chess\n",
            "Successfully installed chess-1.10.0\n"
          ]
        }
      ]
    },
    {
      "cell_type": "code",
      "source": [
        "import wandb\n",
        "wandb.require(\"core\")\n",
        "\n",
        "wandb.login()"
      ],
      "metadata": {
        "colab": {
          "base_uri": "https://localhost:8080/",
          "height": 139
        },
        "id": "S0n4pfvqw_da",
        "outputId": "bf35f943-6c2e-4414-d99d-5fe4e99c91b7"
      },
      "execution_count": 2,
      "outputs": [
        {
          "output_type": "stream",
          "name": "stderr",
          "text": [
            "\u001b[34m\u001b[1mwandb\u001b[0m: Using wandb-core as the SDK backend. Please refer to https://wandb.me/wandb-core for more information.\n"
          ]
        },
        {
          "output_type": "display_data",
          "data": {
            "text/plain": [
              "<IPython.core.display.Javascript object>"
            ],
            "application/javascript": [
              "\n",
              "        window._wandbApiKey = new Promise((resolve, reject) => {\n",
              "            function loadScript(url) {\n",
              "            return new Promise(function(resolve, reject) {\n",
              "                let newScript = document.createElement(\"script\");\n",
              "                newScript.onerror = reject;\n",
              "                newScript.onload = resolve;\n",
              "                document.body.appendChild(newScript);\n",
              "                newScript.src = url;\n",
              "            });\n",
              "            }\n",
              "            loadScript(\"https://cdn.jsdelivr.net/npm/postmate/build/postmate.min.js\").then(() => {\n",
              "            const iframe = document.createElement('iframe')\n",
              "            iframe.style.cssText = \"width:0;height:0;border:none\"\n",
              "            document.body.appendChild(iframe)\n",
              "            const handshake = new Postmate({\n",
              "                container: iframe,\n",
              "                url: 'https://wandb.ai/authorize'\n",
              "            });\n",
              "            const timeout = setTimeout(() => reject(\"Couldn't auto authenticate\"), 5000)\n",
              "            handshake.then(function(child) {\n",
              "                child.on('authorize', data => {\n",
              "                    clearTimeout(timeout)\n",
              "                    resolve(data)\n",
              "                });\n",
              "            });\n",
              "            })\n",
              "        });\n",
              "    "
            ]
          },
          "metadata": {}
        },
        {
          "output_type": "stream",
          "name": "stderr",
          "text": [
            "\u001b[34m\u001b[1mwandb\u001b[0m: Logging into wandb.ai. (Learn how to deploy a W&B server locally: https://wandb.me/wandb-server)\n",
            "\u001b[34m\u001b[1mwandb\u001b[0m: You can find your API key in your browser here: https://wandb.ai/authorize\n",
            "wandb: Paste an API key from your profile and hit enter, or press ctrl+c to quit:"
          ]
        },
        {
          "name": "stdout",
          "output_type": "stream",
          "text": [
            " ··········\n"
          ]
        },
        {
          "output_type": "stream",
          "name": "stderr",
          "text": [
            "\u001b[34m\u001b[1mwandb\u001b[0m: Appending key for api.wandb.ai to your netrc file: /root/.netrc\n"
          ]
        },
        {
          "output_type": "execute_result",
          "data": {
            "text/plain": [
              "True"
            ]
          },
          "metadata": {},
          "execution_count": 2
        }
      ]
    },
    {
      "cell_type": "code",
      "source": [
        "import torch\n",
        "import torch.nn as nn\n",
        "import torch.nn.functional as F\n",
        "import torch.optim as optim\n",
        "from torch.utils.data import Dataset, DataLoader\n",
        "\n",
        "device = torch.device(\"cuda\" if torch.cuda.is_available() else \"cpu\")\n",
        "device"
      ],
      "metadata": {
        "id": "9kHaU4COmrUL",
        "colab": {
          "base_uri": "https://localhost:8080/"
        },
        "outputId": "88f0b70f-df67-4602-94cc-ddbc304c9a6e"
      },
      "execution_count": 3,
      "outputs": [
        {
          "output_type": "execute_result",
          "data": {
            "text/plain": [
              "device(type='cuda')"
            ]
          },
          "metadata": {},
          "execution_count": 3
        }
      ]
    },
    {
      "cell_type": "code",
      "source": [
        "import chess\n",
        "from chess import pgn"
      ],
      "metadata": {
        "id": "hu5owzrfw3Dc"
      },
      "execution_count": 4,
      "outputs": []
    },
    {
      "cell_type": "code",
      "source": [
        "import os # to delete old files"
      ],
      "metadata": {
        "id": "P00aoZxA4LaB"
      },
      "execution_count": 5,
      "outputs": []
    },
    {
      "cell_type": "markdown",
      "source": [
        "# Variables"
      ],
      "metadata": {
        "id": "jXGI8mx2-iGQ"
      }
    },
    {
      "cell_type": "code",
      "source": [
        "DIR = \"drive/MyDrive/Colab Notebooks\"\n",
        "DATA_DIR = f\"{DIR}/tensors\"\n",
        "SAVE_DIR = f\"{DIR}/chess_ai\""
      ],
      "metadata": {
        "id": "DguDRTjC-g6N"
      },
      "execution_count": 6,
      "outputs": []
    },
    {
      "cell_type": "markdown",
      "source": [
        "# Matrices to games"
      ],
      "metadata": {
        "id": "I6Uw9QLM51RA"
      }
    },
    {
      "cell_type": "code",
      "source": [
        "def tensor_to_board(tensor):\n",
        "    board = chess.Board()\n",
        "    board.clear()\n",
        "    idx_to_piece = [\n",
        "        chess.PAWN,\n",
        "        chess.KNIGHT,\n",
        "        chess.BISHOP,\n",
        "        chess.ROOK,\n",
        "        chess.QUEEN,\n",
        "        chess.KING,\n",
        "    ]\n",
        "    for row in range(8):\n",
        "        for col in range(8):\n",
        "            for piece_idx in range(6):\n",
        "                white_offset = 0\n",
        "                piece_is_here = tensor[row][col][piece_idx + white_offset]\n",
        "                if piece_is_here:\n",
        "                    piece = idx_to_piece[piece_idx]\n",
        "                    board.set_piece_at(\n",
        "                        chess.square(col, row), chess.Piece(piece, chess.WHITE)\n",
        "                    )\n",
        "\n",
        "                black_offset = 6\n",
        "                piece_is_here = tensor[row][col][piece_idx + black_offset]\n",
        "                if piece_is_here:\n",
        "                    piece = idx_to_piece[piece_idx]\n",
        "                    board.set_piece_at(\n",
        "                        chess.square(col, row), chess.Piece(piece, chess.BLACK)\n",
        "                    )\n",
        "    return board\n",
        "\n",
        "\n",
        "def info_to_move(from_square, to_square, promotion=None):\n",
        "    move = chess.Move(from_square, to_square)\n",
        "    if promotion:\n",
        "        if promotion == chess.QUEEN:\n",
        "            move.promotion = chess.QUEEN\n",
        "        elif promotion == chess.BISHOP:\n",
        "            move.promotion = chess.BISHOP\n",
        "        elif promotion == chess.ROOK:\n",
        "            move.promotion = chess.ROOK\n",
        "        elif promotion == chess.KNIGHT:\n",
        "            move.promotion = chess.KNIGHT\n",
        "    return move\n",
        "\n",
        "\n",
        "def tensor_to_move(tensor, color):\n",
        "    tensor_8_8_76_form = tensor.view(8, 8, 76)\n",
        "    for row in range(8):\n",
        "        for col in range(8):\n",
        "            promotion = None\n",
        "            from_square = chess.square(col, row)\n",
        "            for i in range(64, 67):\n",
        "                if tensor_8_8_76_form[row][col][i]:\n",
        "                    promotion = chess.KNIGHT\n",
        "                    to_square = chess.square(\n",
        "                        col - 65 + i, row + 1 if color == chess.WHITE else row - 1\n",
        "                    )\n",
        "                    return info_to_move(from_square, to_square, promotion)\n",
        "            for i in range(67, 70):\n",
        "                if tensor_8_8_76_form[row][col][i]:\n",
        "                    promotion = chess.ROOK\n",
        "                    to_square = chess.square(\n",
        "                        col - 68 + i, row + 1 if color == chess.WHITE else row - 1\n",
        "                    )\n",
        "                    return info_to_move(from_square, to_square, promotion)\n",
        "            for i in range(70, 73):\n",
        "                if tensor_8_8_76_form[row][col][i]:\n",
        "                    promotion = chess.BISHOP\n",
        "                    to_square = chess.square(\n",
        "                        col - 71 + i, row + 1 if color == chess.WHITE else row - 1\n",
        "                    )\n",
        "                    return info_to_move(from_square, to_square, promotion)\n",
        "            for i in range(73, 76):\n",
        "                if tensor_8_8_76_form[row][col][i]:\n",
        "                    promotion = chess.QUEEN\n",
        "                    to_square = chess.square(\n",
        "                        col - 74 + i, row + 1 if color == chess.WHITE else row - 1\n",
        "                    )\n",
        "                    return info_to_move(from_square, to_square, promotion)\n",
        "            for i in range(7, 56, 8):\n",
        "                if tensor_8_8_76_form[row][col][i]:\n",
        "                    to_square = chess.square(col + i // 8 + 1, row + i // 8 + 1)\n",
        "                    return info_to_move(from_square, to_square)\n",
        "            for i in range(3, 52, 8):\n",
        "                if tensor_8_8_76_form[row][col][i]:\n",
        "                    to_square = chess.square(col - i // 8 - 1, row - i // 8 - 1)\n",
        "                    return info_to_move(from_square, to_square)\n",
        "            for i in range(1, 50, 8):\n",
        "                if tensor_8_8_76_form[row][col][i]:\n",
        "                    to_square = chess.square(col - i // 8 - 1, row + i // 8 + 1)\n",
        "                    return info_to_move(from_square, to_square)\n",
        "            for i in range(5, 54, 8):\n",
        "                if tensor_8_8_76_form[row][col][i]:\n",
        "                    to_square = chess.square(col + i // 8 + 1, row - i // 8 - 1)\n",
        "                    return info_to_move(from_square, to_square)\n",
        "            for i in range(6, 55, 8):\n",
        "                if tensor_8_8_76_form[row][col][i]:\n",
        "                    to_square = chess.square(col + i // 8 + 1, row)\n",
        "                    return info_to_move(from_square, to_square)\n",
        "            for i in range(2, 51, 8):\n",
        "                if tensor_8_8_76_form[row][col][i]:\n",
        "                    to_square = chess.square(col - i // 8 - 1, row)\n",
        "                    return info_to_move(from_square, to_square)\n",
        "            for i in range(0, 49, 8):\n",
        "                if tensor_8_8_76_form[row][col][i]:\n",
        "                    to_square = chess.square(col, row + i // 8 + 1)\n",
        "                    return info_to_move(from_square, to_square)\n",
        "            for i in range(4, 53, 8):\n",
        "                if tensor_8_8_76_form[row][col][i]:\n",
        "                    to_square = chess.square(col, row - i // 8 - 1)\n",
        "                    return info_to_move(from_square, to_square)\n",
        "            if tensor_8_8_76_form[row][col][56]:\n",
        "                to_square = chess.square(col - 1, row + 2)\n",
        "                return info_to_move(from_square, to_square)\n",
        "            if tensor_8_8_76_form[row][col][57]:\n",
        "                to_square = chess.square(col - 2, row + 1)\n",
        "                return info_to_move(from_square, to_square)\n",
        "            if tensor_8_8_76_form[row][col][58]:\n",
        "                to_square = chess.square(col - 2, row - 1)\n",
        "                return info_to_move(from_square, to_square)\n",
        "            if tensor_8_8_76_form[row][col][59]:\n",
        "                to_square = chess.square(col - 1, row - 2)\n",
        "                return info_to_move(from_square, to_square)\n",
        "            if tensor_8_8_76_form[row][col][60]:\n",
        "                to_square = chess.square(col + 1, row - 2)\n",
        "                return info_to_move(from_square, to_square)\n",
        "            if tensor_8_8_76_form[row][col][61]:\n",
        "                to_square = chess.square(col + 2, row - 1)\n",
        "                return info_to_move(from_square, to_square)\n",
        "            if tensor_8_8_76_form[row][col][62]:\n",
        "                to_square = chess.square(col + 2, row + 1)\n",
        "                return info_to_move(from_square, to_square)\n",
        "            if tensor_8_8_76_form[row][col][63]:\n",
        "                to_square = chess.square(col + 1, row + 2)\n",
        "                return info_to_move(from_square, to_square)\n",
        "    print(\"Can't convert a tensor to a move\")"
      ],
      "metadata": {
        "id": "eA9AfBdQ54DI"
      },
      "execution_count": 7,
      "outputs": []
    },
    {
      "cell_type": "markdown",
      "source": [
        "# Games to matrices"
      ],
      "metadata": {
        "id": "fA0CtuZAEQy8"
      }
    },
    {
      "cell_type": "code",
      "source": [
        "ELO_RANGES = [\n",
        "    800,\n",
        "    # 1200,\n",
        "    # 1600,\n",
        "    # 2000,\n",
        "    # 2400,\n",
        "]\n",
        "NUM_FOR_SINGLE_OF_ELO_RANGE = 4000\n",
        "ELO_RANGE_MUL = [\n",
        "    1,\n",
        "    # 2,\n",
        "    # 4,\n",
        "    # 4,\n",
        "    # 3,\n",
        "]\n",
        "\n",
        "\n",
        "def game_to_tensor(game: pgn.GameNode) -> tuple[torch.Tensor, torch.Tensor]:\n",
        "    # Initialize an 8x8x12 tensor with zeros\n",
        "    tensor = torch.zeros(8, 8, 12)\n",
        "\n",
        "    # Mapping of pieces to tensor indices\n",
        "    piece_to_idx = {\n",
        "        chess.PAWN: 0,\n",
        "        chess.KNIGHT: 1,\n",
        "        chess.BISHOP: 2,\n",
        "        chess.ROOK: 3,\n",
        "        chess.QUEEN: 4,\n",
        "        chess.KING: 5,\n",
        "    }\n",
        "\n",
        "    # Current player color\n",
        "    color = game.turn()\n",
        "\n",
        "    # Iterate over the board and set the tensor values\n",
        "    for i in range(64):\n",
        "        piece = game.board().piece_at(i)\n",
        "        if piece:\n",
        "            color_offset = 0 if piece.color == color else 6\n",
        "            piece_idx = piece_to_idx[piece.piece_type]\n",
        "            row, col = divmod(i, 8)\n",
        "            tensor[row, col, color_offset + piece_idx] = 1\n",
        "\n",
        "    # Add the additional binary features\n",
        "    queen_castling_right = bool(\n",
        "        game.board().castling_rights & (chess.BB_A1 if color else chess.BB_A8)\n",
        "    )\n",
        "    king_castling_right = bool(\n",
        "        game.board().castling_rights & (chess.BB_H1 if color else chess.BB_H8)\n",
        "    )\n",
        "    consts = torch.tensor(\n",
        "        [\n",
        "            queen_castling_right,\n",
        "            king_castling_right,\n",
        "            1 if game.turn() == chess.WHITE else 0,\n",
        "        ]\n",
        "    )\n",
        "\n",
        "    return tensor, consts\n",
        "\n",
        "\n",
        "def move_to_tensor(move: chess.Move) -> torch.Tensor:\n",
        "    from_sq, to_sq = move.from_square, move.to_square\n",
        "    from_row, from_col = divmod(from_sq, 8)\n",
        "    to_row, to_col = divmod(to_sq, 8)\n",
        "\n",
        "    promotion_tensor = torch.zeros(8, 8, 12)\n",
        "    queen_moves_tensor = torch.zeros(8, 8, 56)\n",
        "    knight_moves_tensor = torch.zeros(8, 8, 8)\n",
        "    if move.promotion:\n",
        "        if move.promotion == chess.QUEEN:\n",
        "            promotion_tensor[from_row][from_col][10 + to_col - from_col] = 1\n",
        "        elif move.promotion == chess.BISHOP:\n",
        "            promotion_tensor[from_row][from_col][7 + to_col - from_col] = 1\n",
        "        elif move.promotion == chess.ROOK:\n",
        "            promotion_tensor[from_row][from_col][4 + to_col - from_col] = 1\n",
        "        elif move.promotion == chess.KNIGHT:\n",
        "            promotion_tensor[from_row][from_col][1 + to_col - from_col] = 1\n",
        "    elif from_row - to_row == from_col - to_col:\n",
        "        if from_row < to_row:\n",
        "            queen_moves_tensor[from_row][from_col][\n",
        "                7 + (abs(from_col - to_col) - 1) * 8\n",
        "            ] = 1\n",
        "        else:\n",
        "            queen_moves_tensor[from_row][from_col][\n",
        "                3 + (abs(from_col - to_col) - 1) * 8\n",
        "            ] = 1\n",
        "    elif from_row - to_row == to_col - from_col:\n",
        "        if from_row < to_row:\n",
        "            queen_moves_tensor[from_row][from_col][\n",
        "                1 + (abs(from_col - to_col) - 1) * 8\n",
        "            ] = 1\n",
        "        else:\n",
        "            queen_moves_tensor[from_row][from_col][\n",
        "                5 + (abs(from_col - to_col) - 1) * 8\n",
        "            ] = 1\n",
        "    elif from_row == to_row:\n",
        "        if from_col < to_col:\n",
        "            queen_moves_tensor[from_row][from_col][\n",
        "                6 + (abs(from_col - to_col) - 1) * 8\n",
        "            ] = 1\n",
        "        else:\n",
        "            queen_moves_tensor[from_row][from_col][\n",
        "                2 + (abs(from_col - to_col) - 1) * 8\n",
        "            ] = 1\n",
        "    elif from_col == to_col:\n",
        "        if from_row < to_row:\n",
        "            queen_moves_tensor[from_row][from_col][\n",
        "                0 + (abs(from_row - to_row) - 1) * 8\n",
        "            ] = 1\n",
        "        else:\n",
        "            queen_moves_tensor[from_row][from_col][\n",
        "                4 + (abs(from_row - to_row) - 1) * 8\n",
        "            ] = 1\n",
        "    elif from_row - to_row == -2:\n",
        "        if from_col - to_col == -1:\n",
        "            knight_moves_tensor[from_row][from_col][7] = 1\n",
        "        else:\n",
        "            knight_moves_tensor[from_row][from_col][0] = 1\n",
        "    elif from_row - to_row == 2:\n",
        "        if from_col - to_col == -1:\n",
        "            knight_moves_tensor[from_row][from_col][4] = 1\n",
        "        else:\n",
        "            knight_moves_tensor[from_row][from_col][3] = 1\n",
        "    elif from_row - to_row == -1:\n",
        "        if from_col - to_col == -2:\n",
        "            knight_moves_tensor[from_row][from_col][6] = 1\n",
        "        else:\n",
        "            knight_moves_tensor[from_row][from_col][1] = 1\n",
        "    else:\n",
        "        if from_col - to_col == -2:\n",
        "            knight_moves_tensor[from_row][from_col][5] = 1\n",
        "        else:\n",
        "            knight_moves_tensor[from_row][from_col][2] = 1\n",
        "\n",
        "    one_hot = torch.cat(\n",
        "        (queen_moves_tensor, knight_moves_tensor, promotion_tensor),\n",
        "        dim=2,\n",
        "    )\n",
        "\n",
        "    return torch.argmax(one_hot)\n"
      ],
      "metadata": {
        "id": "wUQFQcy_ETHZ"
      },
      "execution_count": 8,
      "outputs": []
    },
    {
      "cell_type": "markdown",
      "source": [
        "# Model creation"
      ],
      "metadata": {
        "id": "lZRHWNsFut8Q"
      }
    },
    {
      "cell_type": "code",
      "execution_count": 9,
      "metadata": {
        "id": "h31LGmSXmLwn",
        "colab": {
          "base_uri": "https://localhost:8080/"
        },
        "outputId": "bb132846-5220-4624-dc5a-bd7b807d319b"
      },
      "outputs": [
        {
          "output_type": "execute_result",
          "data": {
            "text/plain": [
              "ChessAISmaller(\n",
              "  (conv1): Conv2d(12, 64, kernel_size=(3, 3), stride=(1, 1), padding=(1, 1))\n",
              "  (ln1): LayerNorm((64, 8, 8), eps=1e-05, elementwise_affine=True)\n",
              "  (conv2): Conv2d(64, 128, kernel_size=(3, 3), stride=(1, 1), padding=(1, 1))\n",
              "  (ln2): LayerNorm((128, 4, 4), eps=1e-05, elementwise_affine=True)\n",
              "  (conv3): Conv2d(128, 256, kernel_size=(3, 3), stride=(1, 1), padding=(1, 1))\n",
              "  (ln3): LayerNorm((256, 2, 2), eps=1e-05, elementwise_affine=True)\n",
              "  (global_avg_pool): AdaptiveAvgPool2d(output_size=1)\n",
              "  (fc1): Linear(in_features=259, out_features=512, bias=True)\n",
              "  (dropout): Dropout(p=0.5, inplace=False)\n",
              "  (fc2): Linear(in_features=512, out_features=4864, bias=True)\n",
              ")"
            ]
          },
          "metadata": {},
          "execution_count": 9
        }
      ],
      "source": [
        "class ChessAI(nn.Module):\n",
        "    def __init__(self):\n",
        "        super(ChessAI, self).__init__()\n",
        "        self.conv1 = nn.Conv2d(12, 128, kernel_size=3, padding=1)\n",
        "        self.bn1 = nn.BatchNorm2d(128)\n",
        "        self.conv2 = nn.Conv2d(128, 512, kernel_size=3, padding=1)\n",
        "        self.bn2 = nn.BatchNorm2d(512)\n",
        "        self.conv3 = nn.Conv2d(512, 1024, kernel_size=3, padding=1)\n",
        "        self.bn3 = nn.BatchNorm2d(1024)\n",
        "        self.fc1 = nn.Linear(1024 * 2 * 2, 2048)\n",
        "        self.dropout1 = nn.Dropout(0.5)\n",
        "        self.fc2 = nn.Linear(2048 + 3, 1024)  # Adding 3 for additional parameters\n",
        "        self.dropout2 = nn.Dropout(0.5)\n",
        "        self.fc3 = nn.Linear(1024, 4864)\n",
        "\n",
        "    def forward(self, x, params):\n",
        "        x = F.relu(self.bn1(self.conv1(x)))\n",
        "        x = F.max_pool2d(x, (2, 2))\n",
        "        x = F.relu(self.bn2(self.conv2(x)))\n",
        "        x = F.max_pool2d(x, (2, 2))\n",
        "        x = F.relu(self.bn3(self.conv3(x)))\n",
        "        x = x.view(-1, 1024 * 2 * 2)\n",
        "        x = F.relu(self.fc1(x))\n",
        "        x = self.dropout1(x)\n",
        "        x = torch.cat((x, params), 1)  # Combine board representation with additional parameters\n",
        "        x = F.relu(self.fc2(x))\n",
        "        x = self.dropout2(x)\n",
        "        x = self.fc3(x)\n",
        "        return x\n",
        "\n",
        "\n",
        "class ChessAISmaller(nn.Module):\n",
        "    def __init__(self):\n",
        "        super(ChessAISmaller, self).__init__()\n",
        "        self.conv1 = nn.Conv2d(12, 64, kernel_size=3, padding=1)\n",
        "        self.ln1 = nn.LayerNorm([64, 8, 8])\n",
        "        self.conv2 = nn.Conv2d(64, 128, kernel_size=3, padding=1)\n",
        "        self.ln2 = nn.LayerNorm([128, 4, 4])\n",
        "        self.conv3 = nn.Conv2d(128, 256, kernel_size=3, padding=1)\n",
        "        self.ln3 = nn.LayerNorm([256, 2, 2])\n",
        "        self.global_avg_pool = nn.AdaptiveAvgPool2d(1)\n",
        "        self.fc1 = nn.Linear(256 + 3, 512)  # Adding 3 for additional parameters\n",
        "        self.dropout = nn.Dropout(0.5)\n",
        "        self.fc2 = nn.Linear(512, 4864)\n",
        "\n",
        "    def forward(self, x, params):\n",
        "        x = F.relu(self.ln1(self.conv1(x)))\n",
        "        x = F.max_pool2d(x, (2, 2))\n",
        "\n",
        "        x = F.relu(self.ln2(self.conv2(x)))\n",
        "        x = F.max_pool2d(x, (2, 2))\n",
        "\n",
        "        x = F.relu(self.ln3(self.conv3(x)))\n",
        "        x = self.global_avg_pool(x).view(-1, 256)\n",
        "        x = torch.cat((x, params), 1)\n",
        "        x = F.relu(self.fc1(x))\n",
        "        x = self.dropout(x)\n",
        "        x = self.fc2(x)\n",
        "        return x\n",
        "\n",
        "\n",
        "def init_weights(m):\n",
        "    if isinstance(m, nn.Conv2d) or isinstance(m, nn.Linear):\n",
        "        torch.nn.init.kaiming_uniform_(m.weight)\n",
        "        if m.bias is not None:\n",
        "            m.bias.data.fill_(0.01)\n",
        "\n",
        "model = ChessAISmaller()\n",
        "model.apply(init_weights)\n",
        "model.to(device)"
      ]
    },
    {
      "cell_type": "code",
      "source": [
        "# print the total number of parameters\n",
        "total_params = sum(p.numel() for p in model.parameters())\n",
        "print(f'{total_params:,} total parameters.')"
      ],
      "metadata": {
        "colab": {
          "base_uri": "https://localhost:8080/"
        },
        "id": "Tq_YomoWp8A9",
        "outputId": "9d1952d5-c8f1-437c-de1d-8395e3a78e72"
      },
      "execution_count": 10,
      "outputs": [
        {
          "output_type": "stream",
          "name": "stdout",
          "text": [
            "3,018,688 total parameters.\n"
          ]
        }
      ]
    },
    {
      "cell_type": "code",
      "source": [
        "#optimizer = optim.Adam(model.parameters(), lr=0.0001)\n",
        "optimizer = optim.Adam(model.parameters(), lr=0.001, weight_decay=1e-5)\n",
        "scheduler = optim.lr_scheduler.StepLR(optimizer, step_size=10, gamma=0.1)\n",
        "loss_function = nn.CrossEntropyLoss()"
      ],
      "metadata": {
        "id": "C4DBPcbcuFxH"
      },
      "execution_count": 11,
      "outputs": []
    },
    {
      "cell_type": "markdown",
      "source": [
        "# Data preparation"
      ],
      "metadata": {
        "id": "m2nV8n9VuwbY"
      }
    },
    {
      "cell_type": "code",
      "source": [
        "RATING = 1600\n",
        "PART_OF_THIS_RATING = 1\n",
        "\n",
        "RATING_RANGE = f\"{RATING}-{RATING+400}{'' if not PART_OF_THIS_RATING else f'-{PART_OF_THIS_RATING}'}\"\n",
        "print(RATING_RANGE)"
      ],
      "metadata": {
        "colab": {
          "base_uri": "https://localhost:8080/"
        },
        "id": "J1_Sjl6wm-FB",
        "outputId": "c2446611-b16b-4d59-a4bf-9a27308ba38b"
      },
      "execution_count": 46,
      "outputs": [
        {
          "output_type": "stream",
          "name": "stdout",
          "text": [
            "1600-2000-1\n"
          ]
        }
      ]
    },
    {
      "cell_type": "code",
      "source": [
        "states = torch.load(f\"{DATA_DIR}/states_tensors_{RATING_RANGE}.pt\", map_location=device)\n",
        "print(f\"{states.size() = }\")\n",
        "states_consts = torch.load(f\"{DATA_DIR}/states_consts_tensors_{RATING_RANGE}.pt\", map_location=device)\n",
        "print(f\"{states_consts.size() = }\")\n",
        "moves = torch.load(f\"{DATA_DIR}/moves_tensors_{RATING_RANGE}.pt\", map_location=device)\n",
        "print(f\"{moves.size() = }\")"
      ],
      "metadata": {
        "colab": {
          "base_uri": "https://localhost:8080/"
        },
        "id": "Zn1zkFVuupPN",
        "outputId": "2e45bbdd-d68f-4890-b085-039d9b4ff5b9"
      },
      "execution_count": 47,
      "outputs": [
        {
          "output_type": "stream",
          "name": "stdout",
          "text": [
            "states.size() = torch.Size([1132411, 8, 8, 12])\n",
            "states_consts.size() = torch.Size([1132411, 3])\n",
            "moves.size() = torch.Size([1132411])\n"
          ]
        }
      ]
    },
    {
      "cell_type": "code",
      "source": [
        "class ChessDataset(Dataset):\n",
        "    def __init__(self, states, states_consts, moves):\n",
        "        self.states = states\n",
        "        self.states_consts = states_consts\n",
        "        self.moves = moves\n",
        "\n",
        "    def __len__(self):\n",
        "        return len(self.states)\n",
        "\n",
        "    def __getitem__(self, idx):\n",
        "        # one_hot_move = torch.zeros(4864)\n",
        "        # one_hot_move[self.moves[idx]] = 1\n",
        "        state = self.states[idx].permute(2, 0, 1)  # Change to [12, 8, 8]\n",
        "        state_const = self.states_consts[idx]\n",
        "        move = self.moves[idx]\n",
        "        return state, state_const, move\n",
        "\n",
        "# Create dataset\n",
        "chess_dataset = ChessDataset(states, states_consts, moves)\n",
        "\n",
        "# DataLoader\n",
        "dataloader = DataLoader(chess_dataset, batch_size=32, shuffle=True, drop_last=True)"
      ],
      "metadata": {
        "id": "S7X_12DcyF8f"
      },
      "execution_count": 48,
      "outputs": []
    },
    {
      "cell_type": "markdown",
      "source": [
        "# Train"
      ],
      "metadata": {
        "id": "MCgttGCuObp8"
      }
    },
    {
      "cell_type": "code",
      "source": [
        "EPOCHS = 4\n",
        "STEP_TO_SAVE = 5000\n",
        "STEP_TO_PRINT_LOSS = 2500\n",
        "\n",
        "INITIAL_EPOCH = 4"
      ],
      "metadata": {
        "id": "n6MQ2IqszY73"
      },
      "execution_count": 49,
      "outputs": []
    },
    {
      "cell_type": "code",
      "source": [
        "wandb.init(\n",
        "    # set the wandb project where this run will be logged\n",
        "    project=\"chess_ai_2\",\n",
        "\n",
        "    # track hyperparameters and run metadata\n",
        "    config={\n",
        "        \"learning_rate\": optimizer.param_groups[0][\"lr\"],\n",
        "        \"architecture\": \"CNN\",\n",
        "        \"dataset\": \"lichess 2020.11\",\n",
        "        \"model\": \"ChessAISmaller\"\n",
        "    }\n",
        ")"
      ],
      "metadata": {
        "colab": {
          "base_uri": "https://localhost:8080/",
          "height": 145
        },
        "id": "_gC68mZGzH3z",
        "outputId": "6f4f7f0d-22d2-4ea6-ac20-99a30eea4241"
      },
      "execution_count": 15,
      "outputs": [
        {
          "output_type": "stream",
          "name": "stderr",
          "text": [
            "\u001b[34m\u001b[1mwandb\u001b[0m: Currently logged in as: \u001b[33mrad1an\u001b[0m (\u001b[33mrad1an-personal\u001b[0m). Use \u001b[1m`wandb login --relogin`\u001b[0m to force relogin\n"
          ]
        },
        {
          "output_type": "display_data",
          "data": {
            "text/plain": [
              "<IPython.core.display.HTML object>"
            ],
            "text/html": [
              "Tracking run with wandb version 0.17.5"
            ]
          },
          "metadata": {}
        },
        {
          "output_type": "display_data",
          "data": {
            "text/plain": [
              "<IPython.core.display.HTML object>"
            ],
            "text/html": [
              "Run data is saved locally in <code>/content/wandb/run-20240806_082643-qzgyoly9</code>"
            ]
          },
          "metadata": {}
        },
        {
          "output_type": "display_data",
          "data": {
            "text/plain": [
              "<IPython.core.display.HTML object>"
            ],
            "text/html": [
              "Syncing run <strong><a href='https://wandb.ai/rad1an-personal/chess_ai_2/runs/qzgyoly9' target=\"_blank\">northern-firebrand-9</a></strong> to <a href='https://wandb.ai/rad1an-personal/chess_ai_2' target=\"_blank\">Weights & Biases</a> (<a href='https://wandb.me/run' target=\"_blank\">docs</a>)<br/>"
            ]
          },
          "metadata": {}
        },
        {
          "output_type": "display_data",
          "data": {
            "text/plain": [
              "<IPython.core.display.HTML object>"
            ],
            "text/html": [
              " View project at <a href='https://wandb.ai/rad1an-personal/chess_ai_2' target=\"_blank\">https://wandb.ai/rad1an-personal/chess_ai_2</a>"
            ]
          },
          "metadata": {}
        },
        {
          "output_type": "display_data",
          "data": {
            "text/plain": [
              "<IPython.core.display.HTML object>"
            ],
            "text/html": [
              " View run at <a href='https://wandb.ai/rad1an-personal/chess_ai_2/runs/qzgyoly9' target=\"_blank\">https://wandb.ai/rad1an-personal/chess_ai_2/runs/qzgyoly9</a>"
            ]
          },
          "metadata": {}
        },
        {
          "output_type": "execute_result",
          "data": {
            "text/html": [
              "<button onClick=\"this.nextSibling.style.display='block';this.style.display='none';\">Display W&B run</button><iframe src='https://wandb.ai/rad1an-personal/chess_ai_2/runs/qzgyoly9?jupyter=true' style='border:none;width:100%;height:420px;display:none;'></iframe>"
            ],
            "text/plain": [
              "<wandb.sdk.wandb_run.Run at 0x7ac2e10a3cd0>"
            ]
          },
          "metadata": {},
          "execution_count": 15
        }
      ]
    },
    {
      "cell_type": "code",
      "source": [
        "def save_model(model, optimizer, epoch=\"latest\", batch=\"latest\"):\n",
        "    print(\"Saving model...\", end=\" \")\n",
        "    torch.save(model.state_dict(), f\"{SAVE_DIR}/model_parameters_{RATING_RANGE}_epoch{epoch}_batch{batch}.pth\")\n",
        "    torch.save({\n",
        "        'model_state_dict': model.state_dict(),\n",
        "        'optimizer_state_dict': optimizer.state_dict(),\n",
        "        'scheduler_state_dict': scheduler.state_dict(),\n",
        "        'epoch': epoch,\n",
        "        'batch': batch,\n",
        "    }, f'{SAVE_DIR}/model_and_optimizer_{RATING_RANGE}_epoch{epoch}.pth')\n",
        "    print(\"Done!\")\n",
        "    if batch % STEP_TO_SAVE != 0:\n",
        "        batch = batch - batch%STEP_TO_SAVE + STEP_TO_SAVE\n",
        "    if batch != \"latest\" and batch - STEP_TO_SAVE > 0:\n",
        "        print(f\"Trying to remove {SAVE_DIR}/model_parameters_{RATING_RANGE}_epoch{epoch}_batch{batch-STEP_TO_SAVE}.pth\")\n",
        "        try:\n",
        "            os.remove(f\"{SAVE_DIR}/model_parameters_{RATING_RANGE}_epoch{epoch}_batch{batch-STEP_TO_SAVE}.pth\")\n",
        "            print(\"Removed\")\n",
        "        except FileNotFoundError:\n",
        "            print(\"File not found\")\n",
        "    if batch != \"latest\" and epoch > 1:\n",
        "        print(f\"Trying to remove {SAVE_DIR}/model_and_optimizer_{RATING_RANGE}_epoch{int(epoch)-1}.pth\")\n",
        "        try:\n",
        "            os.remove(f'{SAVE_DIR}/model_and_optimizer_{RATING_RANGE}_epoch{int(epoch)-1}.pth')\n",
        "            print(\"Removed\")\n",
        "        except FileNotFoundError:\n",
        "            print(\"File not found\")\n",
        "\n",
        "def top_k_accuracy(output, target, k=10):\n",
        "    _, pred = output.topk(k, 1, True, True)\n",
        "    pred = pred.t()\n",
        "    correct = pred.eq(target.view(1, -1).expand_as(pred))\n",
        "    return correct[:k].float().sum(0, keepdim=True).mean().item()"
      ],
      "metadata": {
        "id": "UTZqyDFhOopQ"
      },
      "execution_count": 44,
      "outputs": []
    },
    {
      "cell_type": "code",
      "source": [
        "wandb.log({\"rating\": RATING})\n",
        "wandb.log({\"learning_rate\": optimizer.param_groups[0]['lr']})\n",
        "for epoch in range(INITIAL_EPOCH, EPOCHS+INITIAL_EPOCH):\n",
        "    wandb.log({\"epoch\": epoch})\n",
        "    running_loss = 0.0\n",
        "    for i, data in enumerate(dataloader, 0):\n",
        "        inputs, consts, labels = data[0].to(device), data[1].to(device), data[2].to(device)\n",
        "\n",
        "        optimizer.zero_grad()\n",
        "\n",
        "        outputs = model(inputs, consts)\n",
        "        loss = loss_function(outputs, labels.long())\n",
        "        loss.backward()\n",
        "        torch.nn.utils.clip_grad_norm_(model.parameters(), max_norm=1.0)\n",
        "        optimizer.step()\n",
        "\n",
        "        top_1_acc = top_k_accuracy(outputs, labels, k=1)\n",
        "        top_5_acc = top_k_accuracy(outputs, labels, k=5)\n",
        "\n",
        "        wandb.log({\"loss\": loss.item(), \"top_1_accuracy\": top_1_acc, \"top_5_accuracy\": top_5_acc})\n",
        "\n",
        "        running_loss += loss.item()\n",
        "\n",
        "        if i % STEP_TO_PRINT_LOSS == 0 and i != 0:\n",
        "            print(f\"Epoch: {epoch: >2} | Batch: {i: >5} | loss: {running_loss / STEP_TO_PRINT_LOSS:.3f}\")\n",
        "            running_loss = 0.0\n",
        "\n",
        "        if i % STEP_TO_SAVE == 0 and i != 0:\n",
        "            save_model(model, optimizer, epoch, i)\n",
        "    scheduler.step()\n",
        "    current_lr = optimizer.param_groups[0]['lr']\n",
        "    wandb.log({\"learning_rate\": current_lr})\n",
        "    save_model(model, optimizer, epoch=epoch, batch=i)\n",
        "print(\"Finished Training\")"
      ],
      "metadata": {
        "id": "isZaSkXLhlrc",
        "colab": {
          "base_uri": "https://localhost:8080/"
        },
        "outputId": "792fad14-9258-46b8-e2a6-838e69a52fd6"
      },
      "execution_count": null,
      "outputs": [
        {
          "output_type": "stream",
          "name": "stdout",
          "text": [
            "Epoch:  4 | Batch:  2500 | loss: 3.506\n",
            "Epoch:  4 | Batch:  5000 | loss: 3.505\n",
            "Saving model... Done!\n",
            "Trying to remove drive/MyDrive/Colab Notebooks/chess_ai/model_and_optimizer_1600-2000-1_epoch3.pth\n",
            "Removed\n",
            "Epoch:  4 | Batch:  7500 | loss: 3.502\n",
            "Epoch:  4 | Batch: 10000 | loss: 3.492\n",
            "Saving model... Done!\n",
            "Trying to remove drive/MyDrive/Colab Notebooks/chess_ai/model_parameters_1600-2000-1_epoch4_batch5000.pth\n",
            "Removed\n",
            "Trying to remove drive/MyDrive/Colab Notebooks/chess_ai/model_and_optimizer_1600-2000-1_epoch3.pth\n",
            "File not found\n",
            "Epoch:  4 | Batch: 12500 | loss: 3.520\n",
            "Epoch:  4 | Batch: 15000 | loss: 3.492\n",
            "Saving model... Done!\n",
            "Trying to remove drive/MyDrive/Colab Notebooks/chess_ai/model_parameters_1600-2000-1_epoch4_batch10000.pth\n",
            "Removed\n",
            "Trying to remove drive/MyDrive/Colab Notebooks/chess_ai/model_and_optimizer_1600-2000-1_epoch3.pth\n",
            "File not found\n",
            "Epoch:  4 | Batch: 17500 | loss: 3.483\n",
            "Epoch:  4 | Batch: 20000 | loss: 3.490\n",
            "Saving model... Done!\n",
            "Trying to remove drive/MyDrive/Colab Notebooks/chess_ai/model_parameters_1600-2000-1_epoch4_batch15000.pth\n",
            "Removed\n",
            "Trying to remove drive/MyDrive/Colab Notebooks/chess_ai/model_and_optimizer_1600-2000-1_epoch3.pth\n",
            "File not found\n",
            "Epoch:  4 | Batch: 22500 | loss: 3.487\n",
            "Epoch:  4 | Batch: 25000 | loss: 3.500\n",
            "Saving model... Done!\n",
            "Trying to remove drive/MyDrive/Colab Notebooks/chess_ai/model_parameters_1600-2000-1_epoch4_batch20000.pth\n",
            "Removed\n",
            "Trying to remove drive/MyDrive/Colab Notebooks/chess_ai/model_and_optimizer_1600-2000-1_epoch3.pth\n",
            "File not found\n",
            "Epoch:  4 | Batch: 27500 | loss: 3.483\n",
            "Epoch:  4 | Batch: 30000 | loss: 3.482\n",
            "Saving model... Done!\n",
            "Trying to remove drive/MyDrive/Colab Notebooks/chess_ai/model_parameters_1600-2000-1_epoch4_batch25000.pth\n",
            "Removed\n",
            "Trying to remove drive/MyDrive/Colab Notebooks/chess_ai/model_and_optimizer_1600-2000-1_epoch3.pth\n",
            "File not found\n",
            "Epoch:  4 | Batch: 32500 | loss: 3.486\n",
            "Epoch:  4 | Batch: 35000 | loss: 3.490\n",
            "Saving model... Done!\n",
            "Trying to remove drive/MyDrive/Colab Notebooks/chess_ai/model_parameters_1600-2000-1_epoch4_batch30000.pth\n",
            "Removed\n",
            "Trying to remove drive/MyDrive/Colab Notebooks/chess_ai/model_and_optimizer_1600-2000-1_epoch3.pth\n",
            "File not found\n",
            "Saving model... Done!\n",
            "Trying to remove drive/MyDrive/Colab Notebooks/chess_ai/model_parameters_1600-2000-1_epoch4_batch35000.pth\n",
            "Removed\n",
            "Trying to remove drive/MyDrive/Colab Notebooks/chess_ai/model_and_optimizer_1600-2000-1_epoch3.pth\n",
            "File not found\n",
            "Epoch:  5 | Batch:  2500 | loss: 3.403\n",
            "Epoch:  5 | Batch:  5000 | loss: 3.385\n",
            "Saving model... Done!\n",
            "Trying to remove drive/MyDrive/Colab Notebooks/chess_ai/model_and_optimizer_1600-2000-1_epoch4.pth\n",
            "Removed\n",
            "Epoch:  5 | Batch:  7500 | loss: 3.392\n",
            "Epoch:  5 | Batch: 10000 | loss: 3.388\n",
            "Saving model... Done!\n",
            "Trying to remove drive/MyDrive/Colab Notebooks/chess_ai/model_parameters_1600-2000-1_epoch5_batch5000.pth\n",
            "Removed\n",
            "Trying to remove drive/MyDrive/Colab Notebooks/chess_ai/model_and_optimizer_1600-2000-1_epoch4.pth\n",
            "File not found\n",
            "Epoch:  5 | Batch: 12500 | loss: 3.378\n",
            "Epoch:  5 | Batch: 15000 | loss: 3.367\n",
            "Saving model... Done!\n",
            "Trying to remove drive/MyDrive/Colab Notebooks/chess_ai/model_parameters_1600-2000-1_epoch5_batch10000.pth\n",
            "Removed\n",
            "Trying to remove drive/MyDrive/Colab Notebooks/chess_ai/model_and_optimizer_1600-2000-1_epoch4.pth\n",
            "File not found\n",
            "Epoch:  5 | Batch: 17500 | loss: 3.389\n",
            "Epoch:  5 | Batch: 20000 | loss: 3.392\n",
            "Saving model... Done!\n",
            "Trying to remove drive/MyDrive/Colab Notebooks/chess_ai/model_parameters_1600-2000-1_epoch5_batch15000.pth\n",
            "Removed\n",
            "Trying to remove drive/MyDrive/Colab Notebooks/chess_ai/model_and_optimizer_1600-2000-1_epoch4.pth\n",
            "File not found\n",
            "Epoch:  5 | Batch: 22500 | loss: 3.394\n",
            "Epoch:  5 | Batch: 25000 | loss: 3.380\n",
            "Saving model... Done!\n",
            "Trying to remove drive/MyDrive/Colab Notebooks/chess_ai/model_parameters_1600-2000-1_epoch5_batch20000.pth\n",
            "Removed\n",
            "Trying to remove drive/MyDrive/Colab Notebooks/chess_ai/model_and_optimizer_1600-2000-1_epoch4.pth\n",
            "File not found\n",
            "Epoch:  5 | Batch: 27500 | loss: 3.384\n",
            "Epoch:  5 | Batch: 30000 | loss: 3.368\n",
            "Saving model... Done!\n",
            "Trying to remove drive/MyDrive/Colab Notebooks/chess_ai/model_parameters_1600-2000-1_epoch5_batch25000.pth\n",
            "Removed\n",
            "Trying to remove drive/MyDrive/Colab Notebooks/chess_ai/model_and_optimizer_1600-2000-1_epoch4.pth\n",
            "File not found\n",
            "Epoch:  5 | Batch: 32500 | loss: 3.375\n",
            "Epoch:  5 | Batch: 35000 | loss: 3.386\n",
            "Saving model... Done!\n",
            "Trying to remove drive/MyDrive/Colab Notebooks/chess_ai/model_parameters_1600-2000-1_epoch5_batch30000.pth\n",
            "Removed\n",
            "Trying to remove drive/MyDrive/Colab Notebooks/chess_ai/model_and_optimizer_1600-2000-1_epoch4.pth\n",
            "File not found\n",
            "Saving model... Done!\n",
            "Trying to remove drive/MyDrive/Colab Notebooks/chess_ai/model_parameters_1600-2000-1_epoch5_batch35000.pth\n",
            "Removed\n",
            "Trying to remove drive/MyDrive/Colab Notebooks/chess_ai/model_and_optimizer_1600-2000-1_epoch4.pth\n",
            "File not found\n",
            "Epoch:  6 | Batch:  2500 | loss: 3.368\n",
            "Epoch:  6 | Batch:  5000 | loss: 3.378\n",
            "Saving model... Done!\n",
            "Trying to remove drive/MyDrive/Colab Notebooks/chess_ai/model_and_optimizer_1600-2000-1_epoch5.pth\n",
            "Removed\n",
            "Epoch:  6 | Batch:  7500 | loss: 3.366\n",
            "Epoch:  6 | Batch: 10000 | loss: 3.370\n",
            "Saving model... Done!\n",
            "Trying to remove drive/MyDrive/Colab Notebooks/chess_ai/model_parameters_1600-2000-1_epoch6_batch5000.pth\n",
            "Removed\n",
            "Trying to remove drive/MyDrive/Colab Notebooks/chess_ai/model_and_optimizer_1600-2000-1_epoch5.pth\n",
            "File not found\n"
          ]
        }
      ]
    },
    {
      "cell_type": "code",
      "source": [
        "save_model(model, optimizer)"
      ],
      "metadata": {
        "colab": {
          "base_uri": "https://localhost:8080/"
        },
        "id": "x5XWANXEO93X",
        "outputId": "7c590143-c4c1-4ba5-f02f-e9b44e2b7081"
      },
      "execution_count": null,
      "outputs": [
        {
          "output_type": "stream",
          "name": "stdout",
          "text": [
            "Saving model... Done!\n"
          ]
        }
      ]
    },
    {
      "cell_type": "markdown",
      "source": [
        "# To load saved model"
      ],
      "metadata": {
        "id": "U5au65GqDASP"
      }
    },
    {
      "cell_type": "code",
      "source": [
        "# Load saved model\n",
        "model = ChessAISmaller()\n",
        "model.to(device)\n",
        "optimizer = optim.Adam(model.parameters(), lr=0.001, weight_decay=1e-5)\n",
        "scheduler = optim.lr_scheduler.StepLR(optimizer, step_size=10, gamma=0.1)\n",
        "loss_function = nn.CrossEntropyLoss()"
      ],
      "metadata": {
        "id": "sWWKOkqnWTrX"
      },
      "execution_count": 22,
      "outputs": []
    },
    {
      "cell_type": "code",
      "source": [
        "RATING_TO_LOAD = 800\n",
        "PART_OF_RATING_TO_LOAD = 0\n",
        "RATING_TO_LOAD_RANGE = f\"{RATING_TO_LOAD}-{RATING_TO_LOAD+400}{'' if not PART_OF_RATING_TO_LOAD else f'-{PART_OF_RATING_TO_LOAD}'}\"\n",
        "\n",
        "EPOCH_TO_LOAD = 3"
      ],
      "metadata": {
        "id": "EQ4gk4Ik-68j"
      },
      "execution_count": 23,
      "outputs": []
    },
    {
      "cell_type": "code",
      "source": [
        "# Load saved state dict\n",
        "BATCH_TO_LOAD = 15000\n",
        "model.load_state_dict(torch.load(f\"{SAVE_DIR}/model_parameters_{RATING_TO_LOAD_RANGE}_epoch{EPOCH_TO_LOAD}_batch{BATCH_TO_LOAD}.pth\", map_location=device))"
      ],
      "metadata": {
        "colab": {
          "base_uri": "https://localhost:8080/"
        },
        "id": "rGrk8xJ14Kpb",
        "outputId": "4dd39416-3b50-4471-d3d0-ffdd18d65130"
      },
      "execution_count": null,
      "outputs": [
        {
          "output_type": "execute_result",
          "data": {
            "text/plain": [
              "<All keys matched successfully>"
            ]
          },
          "metadata": {},
          "execution_count": 12
        }
      ]
    },
    {
      "cell_type": "code",
      "source": [
        "# Load a model and the optimizer+scheduler state together\n",
        "checkpoint = torch.load(f'{SAVE_DIR}/model_and_optimizer_{RATING_TO_LOAD_RANGE}_epoch{EPOCH_TO_LOAD}.pth', map_location=device)\n",
        "model.load_state_dict(checkpoint['model_state_dict'])\n",
        "optimizer.load_state_dict(checkpoint['optimizer_state_dict'])\n",
        "#scheduler = optim.lr_scheduler.StepLR(optimizer, step_size=10, gamma=0.1, last_epoch=EPOCH_TO_LOAD-1) # if not saved with scheduler\n",
        "scheduler.load_state_dict(checkpoint['scheduler_state_dict'])"
      ],
      "metadata": {
        "id": "w1iu6AqCWSAE"
      },
      "execution_count": 24,
      "outputs": []
    },
    {
      "cell_type": "markdown",
      "source": [
        "# Use model"
      ],
      "metadata": {
        "id": "Z4sWZ_aGDCeW"
      }
    },
    {
      "cell_type": "code",
      "source": [
        "fen = input(\"Enter starting FEN: \")\n",
        "board = chess.Board(fen=fen)\n",
        "game = pgn.Game.from_board(board)\n",
        "\n",
        "print(game.board())\n",
        "\n",
        "\n",
        "def get_move():\n",
        "    move_str = input(\"Enter move: \")\n",
        "    if move_str == \"q\":\n",
        "        exit()\n",
        "    try:\n",
        "        move = chess.Move.from_uci(move_str)\n",
        "    except ValueError:\n",
        "        print(\"Invalid move\")\n",
        "        return get_move()\n",
        "    if move not in game.board().legal_moves:\n",
        "        print(\"Illegal move\")\n",
        "        return get_move()\n",
        "    return move\n",
        "\n",
        "\n",
        "def get_bot_move():\n",
        "    state, consts = game_to_tensor(game)\n",
        "    state = (\n",
        "        state.permute(2, 0, 1).unsqueeze(0).to(device)\n",
        "    )  # Adds a batch dimension and moves to the device\n",
        "    consts = consts.unsqueeze(0).to(device)\n",
        "    model.eval()\n",
        "    with torch.no_grad():\n",
        "        raw_output = model(state, consts)\n",
        "        probabilities = torch.softmax(raw_output, dim=1)\n",
        "        # sort by probability and get the first legal move\n",
        "        _, sorted_indices = torch.sort(probabilities, descending=True)\n",
        "        for i in range(sorted_indices.size(1)):\n",
        "            one_hot = torch.zeros(sorted_indices.size(1))\n",
        "            one_hot[sorted_indices[0][i]] = 1\n",
        "            move = tensor_to_move(one_hot, game.board().turn)\n",
        "            print(\"Bot wants\", move)\n",
        "            if move in game.board().legal_moves:\n",
        "                return move\n",
        "            print(\"Bot move was illegal; trying next move\")\n",
        "    return None\n",
        "\n",
        "\n",
        "def play_with_bot():\n",
        "    global game\n",
        "    while not game.board().is_game_over():\n",
        "        move = get_bot_move()\n",
        "        if not move:\n",
        "            print(\"No legal moves found\")\n",
        "            break\n",
        "        game.add_main_variation(move)\n",
        "        game = game.next()\n",
        "        if game.board().is_game_over():\n",
        "            print(\"Game over\")\n",
        "            break\n",
        "        print(game.board())\n",
        "        print()\n",
        "\n",
        "        move = get_move()\n",
        "        game.add_main_variation(move)\n",
        "        game = game.next()\n",
        "        print(game.board())\n",
        "        print()\n",
        "\n",
        "\n",
        "def play_bot_with_bot(sleep_time=5):\n",
        "    global game\n",
        "    while not game.board().is_game_over():\n",
        "        move = get_bot_move()\n",
        "        if not move:\n",
        "            print(\"No legal moves found\")\n",
        "            break\n",
        "        game.add_main_variation(move)\n",
        "        game = game.next()\n",
        "        if game.board().is_game_over():\n",
        "            print(\"Game over\")\n",
        "            break\n",
        "        print(game.board())\n",
        "        print()\n",
        "\n",
        "        move = get_bot_move()\n",
        "        if not move:\n",
        "            print(\"No legal moves found\")\n",
        "            break\n",
        "        game.add_main_variation(move)\n",
        "        game = game.next()\n",
        "        print(game.board())\n",
        "        print()"
      ],
      "metadata": {
        "colab": {
          "base_uri": "https://localhost:8080/"
        },
        "id": "lzeVO1rIEkuw",
        "outputId": "67ffc96c-970a-4405-bba1-62a8e8fcba6f"
      },
      "execution_count": null,
      "outputs": [
        {
          "output_type": "stream",
          "name": "stdout",
          "text": [
            "Enter starting FEN: rnbqkbnr/pppppppp/8/8/8/8/PPPPPPPP/RNBQKBNR w KQkq - 0 1\n",
            "r n b q k b n r\n",
            "p p p p p p p p\n",
            ". . . . . . . .\n",
            ". . . . . . . .\n",
            ". . . . . . . .\n",
            ". . . . . . . .\n",
            "P P P P P P P P\n",
            "R N B Q K B N R\n"
          ]
        }
      ]
    },
    {
      "cell_type": "code",
      "source": [
        "move = get_bot_move()\n",
        "if not move:\n",
        "    print(\"No legal moves found\")\n",
        "game.add_main_variation(move)\n",
        "game = game.next()\n",
        "if game.board().is_game_over():\n",
        "    print(\"Game over\")\n",
        "game.board()"
      ],
      "metadata": {
        "id": "e6AIMFpLV7pD",
        "colab": {
          "base_uri": "https://localhost:8080/",
          "height": 374
        },
        "outputId": "cd7ed6ef-842d-4e57-c009-7a0660789b00"
      },
      "execution_count": null,
      "outputs": [
        {
          "output_type": "stream",
          "name": "stdout",
          "text": [
            "Bot wants 60 67\n"
          ]
        },
        {
          "output_type": "error",
          "ename": "IndexError",
          "evalue": "list index out of range",
          "traceback": [
            "\u001b[0;31m---------------------------------------------------------------------------\u001b[0m",
            "\u001b[0;31mIndexError\u001b[0m                                Traceback (most recent call last)",
            "\u001b[0;32m<ipython-input-216-68d1493c2a2c>\u001b[0m in \u001b[0;36m<cell line: 1>\u001b[0;34m()\u001b[0m\n\u001b[0;32m----> 1\u001b[0;31m \u001b[0mmove\u001b[0m \u001b[0;34m=\u001b[0m \u001b[0mget_bot_move\u001b[0m\u001b[0;34m(\u001b[0m\u001b[0;34m)\u001b[0m\u001b[0;34m\u001b[0m\u001b[0;34m\u001b[0m\u001b[0m\n\u001b[0m\u001b[1;32m      2\u001b[0m \u001b[0;32mif\u001b[0m \u001b[0;32mnot\u001b[0m \u001b[0mmove\u001b[0m\u001b[0;34m:\u001b[0m\u001b[0;34m\u001b[0m\u001b[0;34m\u001b[0m\u001b[0m\n\u001b[1;32m      3\u001b[0m     \u001b[0mprint\u001b[0m\u001b[0;34m(\u001b[0m\u001b[0;34m\"No legal moves found\"\u001b[0m\u001b[0;34m)\u001b[0m\u001b[0;34m\u001b[0m\u001b[0;34m\u001b[0m\u001b[0m\n\u001b[1;32m      4\u001b[0m \u001b[0mgame\u001b[0m\u001b[0;34m.\u001b[0m\u001b[0madd_main_variation\u001b[0m\u001b[0;34m(\u001b[0m\u001b[0mmove\u001b[0m\u001b[0;34m)\u001b[0m\u001b[0;34m\u001b[0m\u001b[0;34m\u001b[0m\u001b[0m\n\u001b[1;32m      5\u001b[0m \u001b[0mgame\u001b[0m \u001b[0;34m=\u001b[0m \u001b[0mgame\u001b[0m\u001b[0;34m.\u001b[0m\u001b[0mnext\u001b[0m\u001b[0;34m(\u001b[0m\u001b[0;34m)\u001b[0m\u001b[0;34m\u001b[0m\u001b[0;34m\u001b[0m\u001b[0m\n",
            "\u001b[0;32m<ipython-input-215-6aba68c82817>\u001b[0m in \u001b[0;36mget_bot_move\u001b[0;34m()\u001b[0m\n\u001b[1;32m     38\u001b[0m             \u001b[0mmove\u001b[0m \u001b[0;34m=\u001b[0m \u001b[0mtensor_to_move\u001b[0m\u001b[0;34m(\u001b[0m\u001b[0mone_hot\u001b[0m\u001b[0;34m,\u001b[0m \u001b[0mgame\u001b[0m\u001b[0;34m.\u001b[0m\u001b[0mboard\u001b[0m\u001b[0;34m(\u001b[0m\u001b[0;34m)\u001b[0m\u001b[0;34m.\u001b[0m\u001b[0mturn\u001b[0m\u001b[0;34m)\u001b[0m\u001b[0;34m\u001b[0m\u001b[0;34m\u001b[0m\u001b[0m\n\u001b[1;32m     39\u001b[0m             \u001b[0mprint\u001b[0m\u001b[0;34m(\u001b[0m\u001b[0;34m\"Bot wants\"\u001b[0m\u001b[0;34m,\u001b[0m \u001b[0mmove\u001b[0m\u001b[0;34m.\u001b[0m\u001b[0mfrom_square\u001b[0m\u001b[0;34m,\u001b[0m \u001b[0mmove\u001b[0m\u001b[0;34m.\u001b[0m\u001b[0mto_square\u001b[0m\u001b[0;34m)\u001b[0m\u001b[0;34m\u001b[0m\u001b[0;34m\u001b[0m\u001b[0m\n\u001b[0;32m---> 40\u001b[0;31m             \u001b[0;32mif\u001b[0m \u001b[0mmove\u001b[0m \u001b[0;32min\u001b[0m \u001b[0mgame\u001b[0m\u001b[0;34m.\u001b[0m\u001b[0mboard\u001b[0m\u001b[0;34m(\u001b[0m\u001b[0;34m)\u001b[0m\u001b[0;34m.\u001b[0m\u001b[0mlegal_moves\u001b[0m\u001b[0;34m:\u001b[0m\u001b[0;34m\u001b[0m\u001b[0;34m\u001b[0m\u001b[0m\n\u001b[0m\u001b[1;32m     41\u001b[0m                 \u001b[0;32mreturn\u001b[0m \u001b[0mmove\u001b[0m\u001b[0;34m\u001b[0m\u001b[0;34m\u001b[0m\u001b[0m\n\u001b[1;32m     42\u001b[0m             \u001b[0mprint\u001b[0m\u001b[0;34m(\u001b[0m\u001b[0;34m\"Bot move was illegal; trying next move\"\u001b[0m\u001b[0;34m)\u001b[0m\u001b[0;34m\u001b[0m\u001b[0;34m\u001b[0m\u001b[0m\n",
            "\u001b[0;32m/usr/local/lib/python3.10/dist-packages/chess/__init__.py\u001b[0m in \u001b[0;36m__contains__\u001b[0;34m(self, move)\u001b[0m\n\u001b[1;32m   3830\u001b[0m \u001b[0;34m\u001b[0m\u001b[0m\n\u001b[1;32m   3831\u001b[0m     \u001b[0;32mdef\u001b[0m \u001b[0m__contains__\u001b[0m\u001b[0;34m(\u001b[0m\u001b[0mself\u001b[0m\u001b[0;34m,\u001b[0m \u001b[0mmove\u001b[0m\u001b[0;34m:\u001b[0m \u001b[0mMove\u001b[0m\u001b[0;34m)\u001b[0m \u001b[0;34m->\u001b[0m \u001b[0mbool\u001b[0m\u001b[0;34m:\u001b[0m\u001b[0;34m\u001b[0m\u001b[0;34m\u001b[0m\u001b[0m\n\u001b[0;32m-> 3832\u001b[0;31m         \u001b[0;32mreturn\u001b[0m \u001b[0mself\u001b[0m\u001b[0;34m.\u001b[0m\u001b[0mboard\u001b[0m\u001b[0;34m.\u001b[0m\u001b[0mis_legal\u001b[0m\u001b[0;34m(\u001b[0m\u001b[0mmove\u001b[0m\u001b[0;34m)\u001b[0m\u001b[0;34m\u001b[0m\u001b[0;34m\u001b[0m\u001b[0m\n\u001b[0m\u001b[1;32m   3833\u001b[0m \u001b[0;34m\u001b[0m\u001b[0m\n\u001b[1;32m   3834\u001b[0m     \u001b[0;32mdef\u001b[0m \u001b[0m__repr__\u001b[0m\u001b[0;34m(\u001b[0m\u001b[0mself\u001b[0m\u001b[0;34m)\u001b[0m \u001b[0;34m->\u001b[0m \u001b[0mstr\u001b[0m\u001b[0;34m:\u001b[0m\u001b[0;34m\u001b[0m\u001b[0;34m\u001b[0m\u001b[0m\n",
            "\u001b[0;32m/usr/local/lib/python3.10/dist-packages/chess/__init__.py\u001b[0m in \u001b[0;36mis_legal\u001b[0;34m(self, move)\u001b[0m\n\u001b[1;32m   1884\u001b[0m \u001b[0;34m\u001b[0m\u001b[0m\n\u001b[1;32m   1885\u001b[0m     \u001b[0;32mdef\u001b[0m \u001b[0mis_legal\u001b[0m\u001b[0;34m(\u001b[0m\u001b[0mself\u001b[0m\u001b[0;34m,\u001b[0m \u001b[0mmove\u001b[0m\u001b[0;34m:\u001b[0m \u001b[0mMove\u001b[0m\u001b[0;34m)\u001b[0m \u001b[0;34m->\u001b[0m \u001b[0mbool\u001b[0m\u001b[0;34m:\u001b[0m\u001b[0;34m\u001b[0m\u001b[0;34m\u001b[0m\u001b[0m\n\u001b[0;32m-> 1886\u001b[0;31m         \u001b[0;32mreturn\u001b[0m \u001b[0;32mnot\u001b[0m \u001b[0mself\u001b[0m\u001b[0;34m.\u001b[0m\u001b[0mis_variant_end\u001b[0m\u001b[0;34m(\u001b[0m\u001b[0;34m)\u001b[0m \u001b[0;32mand\u001b[0m \u001b[0mself\u001b[0m\u001b[0;34m.\u001b[0m\u001b[0mis_pseudo_legal\u001b[0m\u001b[0;34m(\u001b[0m\u001b[0mmove\u001b[0m\u001b[0;34m)\u001b[0m \u001b[0;32mand\u001b[0m \u001b[0;32mnot\u001b[0m \u001b[0mself\u001b[0m\u001b[0;34m.\u001b[0m\u001b[0mis_into_check\u001b[0m\u001b[0;34m(\u001b[0m\u001b[0mmove\u001b[0m\u001b[0;34m)\u001b[0m\u001b[0;34m\u001b[0m\u001b[0;34m\u001b[0m\u001b[0m\n\u001b[0m\u001b[1;32m   1887\u001b[0m \u001b[0;34m\u001b[0m\u001b[0m\n\u001b[1;32m   1888\u001b[0m     \u001b[0;32mdef\u001b[0m \u001b[0mis_variant_end\u001b[0m\u001b[0;34m(\u001b[0m\u001b[0mself\u001b[0m\u001b[0;34m)\u001b[0m \u001b[0;34m->\u001b[0m \u001b[0mbool\u001b[0m\u001b[0;34m:\u001b[0m\u001b[0;34m\u001b[0m\u001b[0;34m\u001b[0m\u001b[0m\n",
            "\u001b[0;32m/usr/local/lib/python3.10/dist-packages/chess/__init__.py\u001b[0m in \u001b[0;36mis_pseudo_legal\u001b[0;34m(self, move)\u001b[0m\n\u001b[1;32m   1850\u001b[0m         \u001b[0;31m# Get square masks.\u001b[0m\u001b[0;34m\u001b[0m\u001b[0;34m\u001b[0m\u001b[0m\n\u001b[1;32m   1851\u001b[0m         \u001b[0mfrom_mask\u001b[0m \u001b[0;34m=\u001b[0m \u001b[0mBB_SQUARES\u001b[0m\u001b[0;34m[\u001b[0m\u001b[0mmove\u001b[0m\u001b[0;34m.\u001b[0m\u001b[0mfrom_square\u001b[0m\u001b[0;34m]\u001b[0m\u001b[0;34m\u001b[0m\u001b[0;34m\u001b[0m\u001b[0m\n\u001b[0;32m-> 1852\u001b[0;31m         \u001b[0mto_mask\u001b[0m \u001b[0;34m=\u001b[0m \u001b[0mBB_SQUARES\u001b[0m\u001b[0;34m[\u001b[0m\u001b[0mmove\u001b[0m\u001b[0;34m.\u001b[0m\u001b[0mto_square\u001b[0m\u001b[0;34m]\u001b[0m\u001b[0;34m\u001b[0m\u001b[0;34m\u001b[0m\u001b[0m\n\u001b[0m\u001b[1;32m   1853\u001b[0m \u001b[0;34m\u001b[0m\u001b[0m\n\u001b[1;32m   1854\u001b[0m         \u001b[0;31m# Check turn.\u001b[0m\u001b[0;34m\u001b[0m\u001b[0;34m\u001b[0m\u001b[0m\n",
            "\u001b[0;31mIndexError\u001b[0m: list index out of range"
          ]
        }
      ]
    }
  ]
}